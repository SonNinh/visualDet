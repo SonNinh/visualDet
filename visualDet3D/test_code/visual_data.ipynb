{
 "cells": [
  {
   "cell_type": "code",
   "execution_count": 5,
   "id": "3588dcaf",
   "metadata": {},
   "outputs": [
    {
     "name": "stdout",
     "output_type": "stream",
     "text": [
      "======\n",
      "Loading NuScenes tables for version v1.0-mini...\n",
      "23 category,\n",
      "8 attribute,\n",
      "4 visibility,\n",
      "911 instance,\n",
      "12 sensor,\n",
      "120 calibrated_sensor,\n",
      "31206 ego_pose,\n",
      "8 log,\n",
      "10 scene,\n",
      "404 sample,\n",
      "31206 sample_data,\n",
      "18538 sample_annotation,\n",
      "4 map,\n",
      "Done loading in 0.572 seconds.\n",
      "======\n",
      "Reverse indexing ...\n",
      "Done reverse indexing in 0.1 seconds.\n",
      "======\n"
     ]
    }
   ],
   "source": [
    "from nuscenes import NuScenes\n",
    "\n",
    "nusc = NuScenes(version='v1.0-mini', dataroot='/home/ubuntu/data/nuscenes_mini', verbose=True)\n"
   ]
  },
  {
   "cell_type": "code",
   "execution_count": 7,
   "id": "315ac50e",
   "metadata": {},
   "outputs": [
    {
     "data": {
      "text/plain": [
       "[{'token': '1fa93b757fc74fb197cdd60001ad8abf',\n",
       "  'name': 'human.pedestrian.adult',\n",
       "  'description': 'Adult subcategory.'},\n",
       " {'token': 'b1c6de4c57f14a5383d9f963fbdcb5cb',\n",
       "  'name': 'human.pedestrian.child',\n",
       "  'description': 'Child subcategory.'},\n",
       " {'token': 'b2d7c6c701254928a9e4d6aac9446d79',\n",
       "  'name': 'human.pedestrian.wheelchair',\n",
       "  'description': 'Wheelchairs. If a person is in the wheelchair, include in the annotation.'},\n",
       " {'token': '6a5888777ca14867a8aee3fe539b56c4',\n",
       "  'name': 'human.pedestrian.stroller',\n",
       "  'description': 'Strollers. If a person is in the stroller, include in the annotation.'},\n",
       " {'token': '403fede16c88426885dd73366f16c34a',\n",
       "  'name': 'human.pedestrian.personal_mobility',\n",
       "  'description': 'A small electric or self-propelled vehicle, e.g. skateboard, segway, or scooters, on which the person typically travels in a upright position. Driver and (if applicable) rider should be included in the bounding box along with the vehicle.'},\n",
       " {'token': 'bb867e2064014279863c71a29b1eb381',\n",
       "  'name': 'human.pedestrian.police_officer',\n",
       "  'description': 'Police officer.'},\n",
       " {'token': '909f1237d34a49d6bdd27c2fe4581d79',\n",
       "  'name': 'human.pedestrian.construction_worker',\n",
       "  'description': 'Construction worker'},\n",
       " {'token': '63a94dfa99bb47529567cd90d3b58384',\n",
       "  'name': 'animal',\n",
       "  'description': 'All animals, e.g. cats, rats, dogs, deer, birds.'},\n",
       " {'token': 'fd69059b62a3469fbaef25340c0eab7f',\n",
       "  'name': 'vehicle.car',\n",
       "  'description': 'Vehicle designed primarily for personal use, e.g. sedans, hatch-backs, wagons, vans, mini-vans, SUVs and jeeps. If the vehicle is designed to carry more than 10 people use vehicle.bus. If it is primarily designed to haul cargo use vehicle.truck. '},\n",
       " {'token': 'dfd26f200ade4d24b540184e16050022',\n",
       "  'name': 'vehicle.motorcycle',\n",
       "  'description': 'Gasoline or electric powered 2-wheeled vehicle designed to move rapidly (at the speed of standard cars) on the road surface. This category includes all motorcycles, vespas and scooters.'},\n",
       " {'token': 'fc95c87b806f48f8a1faea2dcc2222a4',\n",
       "  'name': 'vehicle.bicycle',\n",
       "  'description': 'Human or electric powered 2-wheeled vehicle designed to travel at lower speeds either on road surface, sidewalks or bike paths.'},\n",
       " {'token': '003edbfb9ca849ee8a7496e9af3025d4',\n",
       "  'name': 'vehicle.bus.bendy',\n",
       "  'description': 'Bendy bus subcategory. Annotate each section of the bendy bus individually.'},\n",
       " {'token': 'fedb11688db84088883945752e480c2c',\n",
       "  'name': 'vehicle.bus.rigid',\n",
       "  'description': 'Rigid bus subcategory.'},\n",
       " {'token': '6021b5187b924d64be64a702e5570edf',\n",
       "  'name': 'vehicle.truck',\n",
       "  'description': 'Vehicles primarily designed to haul cargo including pick-ups, lorrys, trucks and semi-tractors. Trailers hauled after a semi-tractor should be labeled as vehicle.trailer'},\n",
       " {'token': '5b3cd6f2bca64b83aa3d0008df87d0e4',\n",
       "  'name': 'vehicle.construction',\n",
       "  'description': 'Vehicles primarily designed for construction. Typically very slow moving or stationary. Cranes and extremities of construction vehicles are only included in annotations if they interfere with traffic. Trucks used to haul rocks or building materials are considered vehicle.truck rather than construction vehicles.'},\n",
       " {'token': '732cce86872640628788ff1bb81006d4',\n",
       "  'name': 'vehicle.emergency.ambulance',\n",
       "  'description': 'All types of ambulances.'},\n",
       " {'token': '7b2ff083a64e4d53809ae5d9be563504',\n",
       "  'name': 'vehicle.emergency.police',\n",
       "  'description': 'All types of police vehicles including police bicycles and motorcycles.'},\n",
       " {'token': '90d0f6f8e7c749149b1b6c3a029841a8',\n",
       "  'name': 'vehicle.trailer',\n",
       "  'description': 'Any vehicle trailer, both for trucks, cars and bikes.'},\n",
       " {'token': '653f7efbb9514ce7b81d44070d6208c1',\n",
       "  'name': 'movable_object.barrier',\n",
       "  'description': 'Temporary road barrier placed in the scene in order to redirect traffic. Commonly used at construction sites. This includes concrete barrier, metal barrier and water barrier. No fences.'},\n",
       " {'token': '85abebdccd4d46c7be428af5a6173947',\n",
       "  'name': 'movable_object.trafficcone',\n",
       "  'description': 'All types of traffic cone.'},\n",
       " {'token': 'd772e4bae20f493f98e15a76518b31d7',\n",
       "  'name': 'movable_object.pushable_pullable',\n",
       "  'description': 'Objects that a pedestrian may push or pull. For example dolleys, wheel barrows, garbage-bins, or shopping carts.'},\n",
       " {'token': '063c5e7f638343d3a7230bc3641caf97',\n",
       "  'name': 'movable_object.debris',\n",
       "  'description': 'Movable object that is left on the driveable surface that is too large to be driven over safely, e.g tree branch, full trash bag etc.'},\n",
       " {'token': '0a30519ee16a4619b4f4acfe2d78fb55',\n",
       "  'name': 'static_object.bicycle_rack',\n",
       "  'description': 'Area or device intended to park or secure the bicycles in a row. It includes all the bikes parked in it and any empty slots that are intended for parking bikes.'}]"
      ]
     },
     "execution_count": 7,
     "metadata": {},
     "output_type": "execute_result"
    }
   ],
   "source": [
    "nusc.category"
   ]
  },
  {
   "cell_type": "code",
   "execution_count": 8,
   "id": "42f4da14",
   "metadata": {
    "tags": []
   },
   "outputs": [
    {
     "name": "stdout",
     "output_type": "stream",
     "text": [
      "scene-0061, Parked truck, construction, intersectio... [18-07-24 03:28:47]   19s, singapore-onenorth, #anns:4622\n",
      "scene-0103, Many peds right, wait for turning car, ... [18-08-01 19:26:43]   19s, boston-seaport, #anns:2046\n",
      "scene-0655, Parking lot, parked cars, jaywalker, be... [18-08-27 15:51:32]   20s, boston-seaport, #anns:2332\n",
      "scene-0553, Wait at intersection, bicycle, large tr... [18-08-28 20:48:16]   20s, boston-seaport, #anns:1950\n",
      "scene-0757, Arrive at busy intersection, bus, wait ... [18-08-30 19:25:08]   20s, boston-seaport, #anns:592\n",
      "scene-0796, Scooter, peds on sidewalk, bus, cars, t... [18-10-02 02:52:24]   20s, singapore-queensto, #anns:708\n",
      "scene-0916, Parking lot, bicycle rack, parked bicyc... [18-10-08 07:37:13]   20s, singapore-queensto, #anns:2387\n",
      "scene-1077, Night, big street, bus stop, high speed... [18-11-21 11:39:27]   20s, singapore-hollandv, #anns:890\n",
      "scene-1094, Night, after rain, many peds, PMD, ped ... [18-11-21 11:47:27]   19s, singapore-hollandv, #anns:1762\n",
      "scene-1100, Night, peds in sidewalk, peds cross cro... [18-11-21 11:49:47]   19s, singapore-hollandv, #anns:935\n"
     ]
    }
   ],
   "source": [
    "nusc.list_scenes()"
   ]
  },
  {
   "cell_type": "code",
   "execution_count": 9,
   "id": "bb68984f",
   "metadata": {},
   "outputs": [
    {
     "data": {
      "text/plain": [
       "{'token': 'cc8c0bf57f984915a77078b10eb33198',\n",
       " 'log_token': '7e25a2c8ea1f41c5b0da1e69ecfa71a2',\n",
       " 'nbr_samples': 39,\n",
       " 'first_sample_token': 'ca9a282c9e77460f8360f564131a8af5',\n",
       " 'last_sample_token': 'ed5fc18c31904f96a8f0dbb99ff069c0',\n",
       " 'name': 'scene-0061',\n",
       " 'description': 'Parked truck, construction, intersection, turn left, following a van'}"
      ]
     },
     "execution_count": 9,
     "metadata": {},
     "output_type": "execute_result"
    }
   ],
   "source": [
    "my_scene = nusc.scene[0]\n",
    "my_scene"
   ]
  },
  {
   "cell_type": "code",
   "execution_count": 10,
   "id": "71f59b6e",
   "metadata": {},
   "outputs": [],
   "source": [
    "first_sample_token = my_scene['first_sample_token']\n",
    "\n",
    "# The rendering command below is commented out because it tends to crash in notebooks\n",
    "# nusc.render_sample(first_sample_token)"
   ]
  },
  {
   "cell_type": "code",
   "execution_count": 11,
   "id": "7bf1c17a",
   "metadata": {},
   "outputs": [
    {
     "data": {
      "text/plain": [
       "{'token': 'ca9a282c9e77460f8360f564131a8af5',\n",
       " 'timestamp': 1532402927647951,\n",
       " 'prev': '',\n",
       " 'next': '39586f9d59004284a7114a68825e8eec',\n",
       " 'scene_token': 'cc8c0bf57f984915a77078b10eb33198',\n",
       " 'data': {'RADAR_FRONT': '37091c75b9704e0daa829ba56dfa0906',\n",
       "  'RADAR_FRONT_LEFT': '11946c1461d14016a322916157da3c7d',\n",
       "  'RADAR_FRONT_RIGHT': '491209956ee3435a9ec173dad3aaf58b',\n",
       "  'RADAR_BACK_LEFT': '312aa38d0e3e4f01b3124c523e6f9776',\n",
       "  'RADAR_BACK_RIGHT': '07b30d5eb6104e79be58eadf94382bc1',\n",
       "  'LIDAR_TOP': '9d9bf11fb0e144c8b446d54a8a00184f',\n",
       "  'CAM_FRONT': 'e3d495d4ac534d54b321f50006683844',\n",
       "  'CAM_FRONT_RIGHT': 'aac7867ebf4f446395d29fbd60b63b3b',\n",
       "  'CAM_BACK_RIGHT': '79dbb4460a6b40f49f9c150cb118247e',\n",
       "  'CAM_BACK': '03bea5763f0f4722933508d5999c5fd8',\n",
       "  'CAM_BACK_LEFT': '43893a033f9c46d4a51b5e08a67a1eb7',\n",
       "  'CAM_FRONT_LEFT': 'fe5422747a7d4268a4b07fc396707b23'},\n",
       " 'anns': ['ef63a697930c4b20a6b9791f423351da',\n",
       "  '6b89da9bf1f84fd6a5fbe1c3b236f809',\n",
       "  '924ee6ac1fed440a9d9e3720aac635a0',\n",
       "  '91e3608f55174a319246f361690906ba',\n",
       "  'cd051723ed9c40f692b9266359f547af',\n",
       "  '36d52dfedd764b27863375543c965376',\n",
       "  '70af124fceeb433ea73a79537e4bea9e',\n",
       "  '63b89fe17f3e41ecbe28337e0e35db8e',\n",
       "  'e4a3582721c34f528e3367f0bda9485d',\n",
       "  'fcb2332977ed4203aa4b7e04a538e309',\n",
       "  'a0cac1c12246451684116067ae2611f6',\n",
       "  '02248ff567e3497c957c369dc9a1bd5c',\n",
       "  '9db977e264964c2887db1e37113cddaa',\n",
       "  'ca9c5dd6cf374aa980fdd81022f016fd',\n",
       "  '179b8b54ee74425893387ebc09ee133d',\n",
       "  '5b990ac640bf498ca7fd55eaf85d3e12',\n",
       "  '16140fbf143d4e26a4a7613cbd3aa0e8',\n",
       "  '54939f11a73d4398b14aeef500bf0c23',\n",
       "  '83d881a6b3d94ef3a3bc3b585cc514f8',\n",
       "  '74986f1604f047b6925d409915265bf7',\n",
       "  'e86330c5538c4858b8d3ffe874556cc5',\n",
       "  'a7bd5bb89e27455bbb3dba89a576b6a1',\n",
       "  'fbd9d8c939b24f0eb6496243a41e8c41',\n",
       "  '198023a1fb5343a5b6fad033ab8b7057',\n",
       "  'ffeafb90ecd5429cba23d0be9a5b54ee',\n",
       "  'cc636a58e27e446cbdd030c14f3718fd',\n",
       "  '076a7e3ec6244d3b84e7df5ebcbac637',\n",
       "  '0603fbaef1234c6c86424b163d2e3141',\n",
       "  'd76bd5dcc62f4c57b9cece1c7bcfabc5',\n",
       "  '5acb6c71bcd64aa188804411b28c4c8f',\n",
       "  '49b74a5f193c4759b203123b58ca176d',\n",
       "  '77519174b48f4853a895f58bb8f98661',\n",
       "  'c5e9455e98bb42c0af7d1990db1df0c9',\n",
       "  'fcc5b4b5c4724179ab24962a39ca6d65',\n",
       "  '791d1ca7e228433fa50b01778c32449a',\n",
       "  '316d20eb238c43ef9ee195642dd6e3fe',\n",
       "  'cda0a9085607438c9b1ea87f4360dd64',\n",
       "  'e865152aaa194f22b97ad0078c012b21',\n",
       "  '7962506dbc24423aa540a5e4c7083dad',\n",
       "  '29cca6a580924b72a90b9dd6e7710d3e',\n",
       "  'a6f7d4bb60374f868144c5ba4431bf4c',\n",
       "  'f1ae3f713ba946069fa084a6b8626fbf',\n",
       "  'd7af8ede316546f68d4ab4f3dbf03f88',\n",
       "  '91cb8f15ed4444e99470d43515e50c1d',\n",
       "  'bc638d33e89848f58c0b3ccf3900c8bb',\n",
       "  '26fb370c13f844de9d1830f6176ebab6',\n",
       "  '7e66fdf908d84237943c833e6c1b317a',\n",
       "  '67c5dbb3ddcc4aff8ec5140930723c37',\n",
       "  'eaf2532c820740ae905bb7ed78fb1037',\n",
       "  '3e2d17fa9aa5484d9cabc1dfca532193',\n",
       "  'de6bd5ffbed24aa59c8891f8d9c32c44',\n",
       "  '9d51d699f635478fbbcd82a70396dd62',\n",
       "  'b7cbc6d0e80e4dfda7164871ece6cb71',\n",
       "  '563a3f547bd64a2f9969278c5ef447fd',\n",
       "  'df8917888b81424f8c0670939e61d885',\n",
       "  'bb3ef5ced8854640910132b11b597348',\n",
       "  'a522ce1d7f6545d7955779f25d01783b',\n",
       "  '1fafb2468af5481ca9967407af219c32',\n",
       "  '05de82bdb8484623906bb9d97ae87542',\n",
       "  'bfedb0d85e164b7697d1e72dd971fb72',\n",
       "  'ca0f85b4f0d44beb9b7ff87b1ab37ff5',\n",
       "  'bca4bbfdef3d4de980842f28be80b3ca',\n",
       "  'a834fb0389a8453c810c3330e3503e16',\n",
       "  '6c804cb7d78943b195045082c5c2d7fa',\n",
       "  'adf1594def9e4722b952fea33b307937',\n",
       "  '49f76277d07541c5a584aa14c9d28754',\n",
       "  '15a3b4d60b514db5a3468e2aef72a90c',\n",
       "  '18cc2837f2b9457c80af0761a0b83ccc',\n",
       "  '2bfcc693ae9946daba1d9f2724478fd4']}"
      ]
     },
     "execution_count": 11,
     "metadata": {},
     "output_type": "execute_result"
    }
   ],
   "source": [
    "my_sample = nusc.get('sample', first_sample_token)\n",
    "my_sample"
   ]
  },
  {
   "cell_type": "code",
   "execution_count": 9,
   "id": "0563b0f7",
   "metadata": {},
   "outputs": [
    {
     "name": "stdout",
     "output_type": "stream",
     "text": [
      "Sample: fd8420396768425eabec9bdddf7e64b6\n",
      "\n",
      "sample_data_token: a80ee7369c9a4a15946caa5d59155bf2, mod: radar, channel: RADAR_FRONT\n",
      "sample_data_token: bebde4a7c59d4a528cc1ecd7e8fafba9, mod: radar, channel: RADAR_FRONT_LEFT\n",
      "sample_data_token: 87213a6c1ff246c99c16a683bf3eb2e3, mod: radar, channel: RADAR_FRONT_RIGHT\n",
      "sample_data_token: eb2974c182db46409c17557d6923e505, mod: radar, channel: RADAR_BACK_LEFT\n",
      "sample_data_token: 3ff6ecbc35f843dfbbcb39c4a786659b, mod: radar, channel: RADAR_BACK_RIGHT\n",
      "sample_data_token: 80a35c14dd68408d83cf0e4f814feae4, mod: lidar, channel: LIDAR_TOP\n",
      "sample_data_token: b8fba7d78cf547b996c431dec1f5ee26, mod: camera, channel: CAM_FRONT\n",
      "sample_data_token: ba9b6fd85aca41cda98ff0c3d5f71af6, mod: camera, channel: CAM_FRONT_RIGHT\n",
      "sample_data_token: 669b1e90a823418b854daa7ce5c4e9e3, mod: camera, channel: CAM_BACK_RIGHT\n",
      "sample_data_token: fdb81e7a95824171bac5f2d470bba0b3, mod: camera, channel: CAM_BACK\n",
      "sample_data_token: 97bd930608044d26bf17b10ed0a54c8e, mod: camera, channel: CAM_BACK_LEFT\n",
      "sample_data_token: 9adb8200723d4223bfc48ffd2c3a7646, mod: camera, channel: CAM_FRONT_LEFT\n",
      "\n",
      "sample_annotation_token: b746e7064b3d483c9ffc13163d20c4c9, category: vehicle.car\n",
      "sample_annotation_token: f2a0d6f97f064c5cbb29ddbd708c2ed5, category: vehicle.car\n",
      "sample_annotation_token: 8fd6a30b89444e80ae3ba97c662116aa, category: vehicle.car\n",
      "sample_annotation_token: 4593051eccfb422ea1abb7793dbf0b81, category: vehicle.car\n",
      "sample_annotation_token: d26d40022ed541fda280abbf5c3591d5, category: human.pedestrian.adult\n",
      "sample_annotation_token: 4b082146307a4701885f907ba805468b, category: vehicle.car\n",
      "sample_annotation_token: 37ec1c27b63b461fb82c2592def48cb6, category: human.pedestrian.adult\n",
      "sample_annotation_token: 19fe0a15666946459bee9ed65e05515b, category: vehicle.car\n",
      "sample_annotation_token: 47364b4089694082bc7aed1c9ae68f76, category: human.pedestrian.adult\n",
      "sample_annotation_token: 8d8c81d1502547a1b9024568cb9911df, category: human.pedestrian.adult\n",
      "sample_annotation_token: bdb2ededbcce44948aa15d142adf4032, category: movable_object.trafficcone\n",
      "sample_annotation_token: cfdc587d3a2f4233b9d962b3fdd9bc6c, category: movable_object.trafficcone\n",
      "sample_annotation_token: b445dae496af49e5bb682bcbe3944318, category: vehicle.car\n",
      "sample_annotation_token: f3098c0393474c10a243558476817440, category: vehicle.car\n",
      "sample_annotation_token: 915cc0480bc14a77bd878db41a602ac4, category: vehicle.car\n",
      "sample_annotation_token: 4e025eedef534ff78d8be1bc2c6c06a4, category: vehicle.car\n",
      "sample_annotation_token: cb4f508256dc4d1582bfe4c3a432555e, category: vehicle.car\n",
      "sample_annotation_token: 9fc8010149a54805a92799d898e3e117, category: vehicle.car\n",
      "sample_annotation_token: de011f23ad174503955555e89bbe9859, category: vehicle.car\n",
      "sample_annotation_token: c0d9cb13fc994791b5c628bad2be8a41, category: human.pedestrian.adult\n",
      "sample_annotation_token: 400558ef1fee43a99e2ec4a9db4bc6bf, category: vehicle.car\n",
      "sample_annotation_token: 8c2f151c2cbc481ba422cfa2086681ce, category: vehicle.car\n",
      "sample_annotation_token: 7c6651d77fa34daba278dd1ad58643af, category: vehicle.car\n",
      "sample_annotation_token: 9ca38c67356344d39d346f64c6a1295e, category: vehicle.car\n",
      "sample_annotation_token: a820838aae00434dae71aa1de4dc72eb, category: vehicle.car\n",
      "sample_annotation_token: 780c5b8cd7824a7f96bf1f1f5c23abe2, category: vehicle.car\n",
      "sample_annotation_token: 8db7c9680b9a43038029bb70c32756c5, category: human.pedestrian.adult\n",
      "sample_annotation_token: 31c3d3d962d2425a9c9c7007916ed98b, category: vehicle.car\n",
      "sample_annotation_token: d63fe60e110f4d7c94b950fd114ebba8, category: vehicle.car\n",
      "sample_annotation_token: 576ece85f1f74539ad3f89a4b3b20d3e, category: vehicle.car\n",
      "sample_annotation_token: fa361a54fc314b919b221b3d56183487, category: movable_object.trafficcone\n",
      "sample_annotation_token: 91efad821294443f8a896c464e40796a, category: vehicle.car\n",
      "sample_annotation_token: e751d59062c24df6b1f457524543d842, category: human.pedestrian.adult\n",
      "sample_annotation_token: 4f0c8ec610df4205b40f4c264335daff, category: human.pedestrian.adult\n",
      "sample_annotation_token: 6b541936288c40e0bb9503fe702f7b71, category: vehicle.car\n",
      "sample_annotation_token: 258e4b9fe80946b897992650450efaa9, category: human.pedestrian.adult\n",
      "sample_annotation_token: 9b1e0467b8fd42f49bc7ab0dd97b3332, category: vehicle.car\n"
     ]
    }
   ],
   "source": [
    "nusc.list_sample(my_sample['token'])"
   ]
  },
  {
   "cell_type": "code",
   "execution_count": 10,
   "id": "282229e5",
   "metadata": {},
   "outputs": [
    {
     "data": {
      "text/plain": [
       "{'RADAR_FRONT': 'a80ee7369c9a4a15946caa5d59155bf2',\n",
       " 'RADAR_FRONT_LEFT': 'bebde4a7c59d4a528cc1ecd7e8fafba9',\n",
       " 'RADAR_FRONT_RIGHT': '87213a6c1ff246c99c16a683bf3eb2e3',\n",
       " 'RADAR_BACK_LEFT': 'eb2974c182db46409c17557d6923e505',\n",
       " 'RADAR_BACK_RIGHT': '3ff6ecbc35f843dfbbcb39c4a786659b',\n",
       " 'LIDAR_TOP': '80a35c14dd68408d83cf0e4f814feae4',\n",
       " 'CAM_FRONT': 'b8fba7d78cf547b996c431dec1f5ee26',\n",
       " 'CAM_FRONT_RIGHT': 'ba9b6fd85aca41cda98ff0c3d5f71af6',\n",
       " 'CAM_BACK_RIGHT': '669b1e90a823418b854daa7ce5c4e9e3',\n",
       " 'CAM_BACK': 'fdb81e7a95824171bac5f2d470bba0b3',\n",
       " 'CAM_BACK_LEFT': '97bd930608044d26bf17b10ed0a54c8e',\n",
       " 'CAM_FRONT_LEFT': '9adb8200723d4223bfc48ffd2c3a7646'}"
      ]
     },
     "execution_count": 10,
     "metadata": {},
     "output_type": "execute_result"
    }
   ],
   "source": [
    "my_sample['data']"
   ]
  },
  {
   "cell_type": "code",
   "execution_count": 11,
   "id": "fa2f8997",
   "metadata": {},
   "outputs": [
    {
     "data": {
      "text/plain": [
       "{'token': 'b8fba7d78cf547b996c431dec1f5ee26',\n",
       " 'sample_token': 'fd8420396768425eabec9bdddf7e64b6',\n",
       " 'ego_pose_token': 'b8fba7d78cf547b996c431dec1f5ee26',\n",
       " 'calibrated_sensor_token': '774231675dc44f2792896d731c8709ff',\n",
       " 'timestamp': 1533201470412460,\n",
       " 'fileformat': 'jpg',\n",
       " 'is_key_frame': True,\n",
       " 'height': 900,\n",
       " 'width': 1600,\n",
       " 'filename': 'samples/CAM_FRONT/n015-2018-08-02-17-16-37+0800__CAM_FRONT__1533201470412460.jpg',\n",
       " 'prev': '',\n",
       " 'next': '891a5802c274466c96e33955e8943d2d',\n",
       " 'sensor_modality': 'camera',\n",
       " 'channel': 'CAM_FRONT'}"
      ]
     },
     "execution_count": 11,
     "metadata": {},
     "output_type": "execute_result"
    }
   ],
   "source": [
    "sensor = 'CAM_FRONT'\n",
    "cam_front_data = nusc.get('sample_data', my_sample['data'][sensor])\n",
    "cam_front_data"
   ]
  },
  {
   "cell_type": "code",
   "execution_count": 12,
   "id": "518af386",
   "metadata": {},
   "outputs": [
    {
     "ename": "FileNotFoundError",
     "evalue": "[Errno 2] No such file or directory: '/home/ubuntu/data/nuscenes/samples/CAM_FRONT/n015-2018-08-02-17-16-37+0800__CAM_FRONT__1533201470412460.jpg'",
     "output_type": "error",
     "traceback": [
      "\u001b[0;31m---------------------------------------------------------------------------\u001b[0m",
      "\u001b[0;31mFileNotFoundError\u001b[0m                         Traceback (most recent call last)",
      "\u001b[0;32m<ipython-input-12-ce429bcd0964>\u001b[0m in \u001b[0;36m<module>\u001b[0;34m\u001b[0m\n\u001b[0;32m----> 1\u001b[0;31m \u001b[0mnusc\u001b[0m\u001b[0;34m.\u001b[0m\u001b[0mrender_sample_data\u001b[0m\u001b[0;34m(\u001b[0m\u001b[0mcam_front_data\u001b[0m\u001b[0;34m[\u001b[0m\u001b[0;34m'token'\u001b[0m\u001b[0;34m]\u001b[0m\u001b[0;34m)\u001b[0m\u001b[0;34m\u001b[0m\u001b[0;34m\u001b[0m\u001b[0m\n\u001b[0m",
      "\u001b[0;32m~/miniconda3/envs/visualdet3d/lib/python3.8/site-packages/nuscenes/nuscenes.py\u001b[0m in \u001b[0;36mrender_sample_data\u001b[0;34m(self, sample_data_token, with_anns, box_vis_level, axes_limit, ax, nsweeps, out_path, underlay_map, use_flat_vehicle_coordinates, show_lidarseg, show_lidarseg_legend, filter_lidarseg_labels, lidarseg_preds_bin_path, verbose)\u001b[0m\n\u001b[1;32m    528\u001b[0m                            \u001b[0mfilter_lidarseg_labels\u001b[0m\u001b[0;34m:\u001b[0m \u001b[0mList\u001b[0m \u001b[0;34m=\u001b[0m \u001b[0;32mNone\u001b[0m\u001b[0;34m,\u001b[0m\u001b[0;34m\u001b[0m\u001b[0;34m\u001b[0m\u001b[0m\n\u001b[1;32m    529\u001b[0m                            lidarseg_preds_bin_path: str = None, verbose: bool = True) -> None:\n\u001b[0;32m--> 530\u001b[0;31m         self.explorer.render_sample_data(sample_data_token, with_anns, box_vis_level, axes_limit, ax, nsweeps=nsweeps,\n\u001b[0m\u001b[1;32m    531\u001b[0m                                          \u001b[0mout_path\u001b[0m\u001b[0;34m=\u001b[0m\u001b[0mout_path\u001b[0m\u001b[0;34m,\u001b[0m \u001b[0munderlay_map\u001b[0m\u001b[0;34m=\u001b[0m\u001b[0munderlay_map\u001b[0m\u001b[0;34m,\u001b[0m\u001b[0;34m\u001b[0m\u001b[0;34m\u001b[0m\u001b[0m\n\u001b[1;32m    532\u001b[0m                                          \u001b[0muse_flat_vehicle_coordinates\u001b[0m\u001b[0;34m=\u001b[0m\u001b[0muse_flat_vehicle_coordinates\u001b[0m\u001b[0;34m,\u001b[0m\u001b[0;34m\u001b[0m\u001b[0;34m\u001b[0m\u001b[0m\n",
      "\u001b[0;32m~/miniconda3/envs/visualdet3d/lib/python3.8/site-packages/nuscenes/nuscenes.py\u001b[0m in \u001b[0;36mrender_sample_data\u001b[0;34m(self, sample_data_token, with_anns, box_vis_level, axes_limit, ax, nsweeps, out_path, underlay_map, use_flat_vehicle_coordinates, show_lidarseg, show_lidarseg_legend, filter_lidarseg_labels, lidarseg_preds_bin_path, verbose)\u001b[0m\n\u001b[1;32m   1281\u001b[0m             data_path, boxes, camera_intrinsic = self.nusc.get_sample_data(sample_data_token,\n\u001b[1;32m   1282\u001b[0m                                                                            box_vis_level=box_vis_level)\n\u001b[0;32m-> 1283\u001b[0;31m             \u001b[0mdata\u001b[0m \u001b[0;34m=\u001b[0m \u001b[0mImage\u001b[0m\u001b[0;34m.\u001b[0m\u001b[0mopen\u001b[0m\u001b[0;34m(\u001b[0m\u001b[0mdata_path\u001b[0m\u001b[0;34m)\u001b[0m\u001b[0;34m\u001b[0m\u001b[0;34m\u001b[0m\u001b[0m\n\u001b[0m\u001b[1;32m   1284\u001b[0m \u001b[0;34m\u001b[0m\u001b[0m\n\u001b[1;32m   1285\u001b[0m             \u001b[0;31m# Init axes.\u001b[0m\u001b[0;34m\u001b[0m\u001b[0;34m\u001b[0m\u001b[0;34m\u001b[0m\u001b[0m\n",
      "\u001b[0;32m~/miniconda3/envs/visualdet3d/lib/python3.8/site-packages/PIL/Image.py\u001b[0m in \u001b[0;36mopen\u001b[0;34m(fp, mode, formats)\u001b[0m\n\u001b[1;32m   2910\u001b[0m \u001b[0;34m\u001b[0m\u001b[0m\n\u001b[1;32m   2911\u001b[0m     \u001b[0;32mif\u001b[0m \u001b[0mfilename\u001b[0m\u001b[0;34m:\u001b[0m\u001b[0;34m\u001b[0m\u001b[0;34m\u001b[0m\u001b[0m\n\u001b[0;32m-> 2912\u001b[0;31m         \u001b[0mfp\u001b[0m \u001b[0;34m=\u001b[0m \u001b[0mbuiltins\u001b[0m\u001b[0;34m.\u001b[0m\u001b[0mopen\u001b[0m\u001b[0;34m(\u001b[0m\u001b[0mfilename\u001b[0m\u001b[0;34m,\u001b[0m \u001b[0;34m\"rb\"\u001b[0m\u001b[0;34m)\u001b[0m\u001b[0;34m\u001b[0m\u001b[0;34m\u001b[0m\u001b[0m\n\u001b[0m\u001b[1;32m   2913\u001b[0m         \u001b[0mexclusive_fp\u001b[0m \u001b[0;34m=\u001b[0m \u001b[0;32mTrue\u001b[0m\u001b[0;34m\u001b[0m\u001b[0;34m\u001b[0m\u001b[0m\n\u001b[1;32m   2914\u001b[0m \u001b[0;34m\u001b[0m\u001b[0m\n",
      "\u001b[0;31mFileNotFoundError\u001b[0m: [Errno 2] No such file or directory: '/home/ubuntu/data/nuscenes/samples/CAM_FRONT/n015-2018-08-02-17-16-37+0800__CAM_FRONT__1533201470412460.jpg'"
     ]
    }
   ],
   "source": [
    "nusc.render_sample_data(cam_front_data['token'])"
   ]
  },
  {
   "cell_type": "code",
   "execution_count": null,
   "id": "5c3590b7",
   "metadata": {},
   "outputs": [],
   "source": []
  }
 ],
 "metadata": {
  "kernelspec": {
   "display_name": "Python 3",
   "language": "python",
   "name": "python3"
  },
  "language_info": {
   "codemirror_mode": {
    "name": "ipython",
    "version": 3
   },
   "file_extension": ".py",
   "mimetype": "text/x-python",
   "name": "python",
   "nbconvert_exporter": "python",
   "pygments_lexer": "ipython3",
   "version": "3.8.10"
  }
 },
 "nbformat": 4,
 "nbformat_minor": 5
}
